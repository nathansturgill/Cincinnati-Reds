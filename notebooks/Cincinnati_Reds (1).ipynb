{
  "cells": [
    {
      "cell_type": "markdown",
      "source": [
        "[![Open In Colab](https://colab.research.google.com/assets/colab-badge.svg)](https://colab.research.google.com/github/nathansturgill/Cincinnati-Reds/blob/main/notebooks/Cincinnati_Reds.ipynb)"
      ],
      "metadata": {
        "id": "uxJ9nqjeuGaZ"
      },
      "id": "uxJ9nqjeuGaZ"
    },
    {
      "cell_type": "markdown",
      "source": [
        "This is a jupyter notebook dedicated to the Reds and Lab 2!"
      ],
      "metadata": {
        "id": "rTlMUkk8tD4V"
      },
      "id": "rTlMUkk8tD4V"
    },
    {
      "cell_type": "code",
      "execution_count": null,
      "id": "b68a32e1-a71e-48e1-9182-7cfecd5dae81",
      "metadata": {
        "id": "b68a32e1-a71e-48e1-9182-7cfecd5dae81"
      },
      "outputs": [],
      "source": [
        "m= \"Go Reds!\""
      ]
    },
    {
      "cell_type": "code",
      "execution_count": null,
      "id": "6447c21b-4dff-4141-a801-202083c17faa",
      "metadata": {
        "tags": [],
        "id": "6447c21b-4dff-4141-a801-202083c17faa",
        "outputId": "d356b64b-83b6-4410-a48b-d4fc9d0978b2"
      },
      "outputs": [
        {
          "data": {
            "text/plain": [
              "'Go Reds!'"
            ]
          },
          "execution_count": 4,
          "metadata": {},
          "output_type": "execute_result"
        }
      ],
      "source": [
        "m"
      ]
    }
  ],
  "metadata": {
    "kernelspec": {
      "display_name": "Python 3 (ipykernel)",
      "language": "python",
      "name": "python3"
    },
    "language_info": {
      "codemirror_mode": {
        "name": "ipython",
        "version": 3
      },
      "file_extension": ".py",
      "mimetype": "text/x-python",
      "name": "python",
      "nbconvert_exporter": "python",
      "pygments_lexer": "ipython3",
      "version": "3.11.5"
    },
    "colab": {
      "provenance": []
    }
  },
  "nbformat": 4,
  "nbformat_minor": 5
}